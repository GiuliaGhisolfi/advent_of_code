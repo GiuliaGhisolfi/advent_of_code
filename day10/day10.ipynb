{
 "cells": [
  {
   "cell_type": "markdown",
   "metadata": {},
   "source": [
    "### Part 1"
   ]
  },
  {
   "cell_type": "code",
   "execution_count": 61,
   "metadata": {},
   "outputs": [
    {
     "data": {
      "text/plain": [
       "(60, 60)"
      ]
     },
     "execution_count": 61,
     "metadata": {},
     "output_type": "execute_result"
    }
   ],
   "source": [
    "import csv\n",
    "\n",
    "INPUT_DATA = \"puzzle_input.csv\"\n",
    "\n",
    "with open(INPUT_DATA, newline='') as csvfile:\n",
    "    reader = csv.reader(csvfile)\n",
    "    reader = list(reader)\n",
    "\n",
    "    data = [list(row[0]) for row in reader]\n",
    "    data = [[int(i) for i in row] for row in data]\n",
    "\n",
    "\n",
    "len(data), len(data[0])"
   ]
  },
  {
   "cell_type": "code",
   "execution_count": 53,
   "metadata": {},
   "outputs": [],
   "source": [
    "dummy_data = [\n",
    "    [8, 9, 0, 1, 0, 1, 2, 3],\n",
    "    [7, 8, 1, 2, 1, 8, 7, 4],\n",
    "    [8, 7, 4, 3, 0, 9, 6, 5],\n",
    "    [9, 6, 5, 4, 9, 8, 7, 4],\n",
    "    [4, 5, 6, 7, 8, 9, 0, 3],\n",
    "    [3, 2, 0, 1, 9, 0, 1, 2],\n",
    "    [0, 1, 3, 2, 9, 8, 0, 1],\n",
    "    [1, 0, 4, 5, 6, 7, 3, 2],\n",
    "]"
   ]
  },
  {
   "cell_type": "code",
   "execution_count": 54,
   "metadata": {},
   "outputs": [
    {
     "data": {
      "text/plain": [
       "True"
      ]
     },
     "execution_count": 54,
     "metadata": {},
     "output_type": "execute_result"
    }
   ],
   "source": [
    "dummy_data[0][3] == 1"
   ]
  },
  {
   "cell_type": "code",
   "execution_count": 55,
   "metadata": {},
   "outputs": [],
   "source": [
    "def find_trailend(i, j, val, data):\n",
    "    if val == 9:\n",
    "        return [str(i) + \",\" + str(j)]\n",
    "    \n",
    "    trailend = []\n",
    "    \n",
    "    if i > 0:\n",
    "        if data[i-1][j] == val+1:\n",
    "            trailend += find_trailend(i-1, j, val+1, data)\n",
    "    if i < len(data)-1:\n",
    "        if data[i+1][j] == val+1:\n",
    "            trailend += find_trailend(i+1, j, val+1, data)\n",
    "    if j > 0:\n",
    "        if data[i][j-1] == val+1:\n",
    "            trailend += find_trailend(i, j-1, val+1, data)\n",
    "    if j < len(data[0])-1:\n",
    "        if data[i][j+1] == val+1:\n",
    "            trailend += (find_trailend(i, j+1, val+1, data))\n",
    "    \n",
    "    return trailend\n",
    "\n",
    "def find_trailhead(data):\n",
    "    score = 0\n",
    "\n",
    "    for i in range(len(data)):\n",
    "        for j in range(len(data[0])):\n",
    "            if data[i][j] == 0:\n",
    "                end_trail = find_trailend(i, j, 0, data)\n",
    "                end_trail = list(set([str(x) for x in end_trail]))\n",
    "                score += len(end_trail)\n",
    "\n",
    "    return score"
   ]
  },
  {
   "cell_type": "code",
   "execution_count": 59,
   "metadata": {},
   "outputs": [
    {
     "data": {
      "text/plain": [
       "36"
      ]
     },
     "execution_count": 59,
     "metadata": {},
     "output_type": "execute_result"
    }
   ],
   "source": [
    "find_trailhead(dummy_data)"
   ]
  },
  {
   "cell_type": "code",
   "execution_count": 63,
   "metadata": {},
   "outputs": [
    {
     "data": {
      "text/plain": [
       "744"
      ]
     },
     "execution_count": 63,
     "metadata": {},
     "output_type": "execute_result"
    }
   ],
   "source": [
    "find_trailhead(data)"
   ]
  },
  {
   "cell_type": "markdown",
   "metadata": {},
   "source": [
    "### Part 2"
   ]
  },
  {
   "cell_type": "code",
   "execution_count": 64,
   "metadata": {},
   "outputs": [],
   "source": [
    "def trail_score(i, j, val, data):\n",
    "    if val == 9:\n",
    "        return 1\n",
    "    \n",
    "    score = 0\n",
    "    \n",
    "    if i > 0:\n",
    "        if data[i-1][j] == val+1:\n",
    "            score += trail_score(i-1, j, val+1, data)\n",
    "    if i < len(data)-1:\n",
    "        if data[i+1][j] == val+1:\n",
    "            score += trail_score(i+1, j, val+1, data)\n",
    "    if j > 0:\n",
    "        if data[i][j-1] == val+1:\n",
    "            score += trail_score(i, j-1, val+1, data)\n",
    "    if j < len(data[0])-1:\n",
    "        if data[i][j+1] == val+1:\n",
    "            score += trail_score(i, j+1, val+1, data)\n",
    "    \n",
    "    return score\n",
    "\n",
    "def compute_trail_score(data):\n",
    "    score = 0\n",
    "\n",
    "    for i in range(len(data)):\n",
    "        for j in range(len(data[0])):\n",
    "            if data[i][j] == 0:\n",
    "                score += trail_score(i, j, 0, data)\n",
    "\n",
    "    return score"
   ]
  },
  {
   "cell_type": "code",
   "execution_count": 65,
   "metadata": {},
   "outputs": [
    {
     "data": {
      "text/plain": [
       "81"
      ]
     },
     "execution_count": 65,
     "metadata": {},
     "output_type": "execute_result"
    }
   ],
   "source": [
    "compute_trail_score(dummy_data)"
   ]
  },
  {
   "cell_type": "code",
   "execution_count": 66,
   "metadata": {},
   "outputs": [
    {
     "data": {
      "text/plain": [
       "1651"
      ]
     },
     "execution_count": 66,
     "metadata": {},
     "output_type": "execute_result"
    }
   ],
   "source": [
    "compute_trail_score(data)"
   ]
  }
 ],
 "metadata": {
  "kernelspec": {
   "display_name": "base",
   "language": "python",
   "name": "python3"
  },
  "language_info": {
   "codemirror_mode": {
    "name": "ipython",
    "version": 3
   },
   "file_extension": ".py",
   "mimetype": "text/x-python",
   "name": "python",
   "nbconvert_exporter": "python",
   "pygments_lexer": "ipython3",
   "version": "3.10.9"
  }
 },
 "nbformat": 4,
 "nbformat_minor": 2
}
