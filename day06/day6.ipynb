{
 "cells": [
  {
   "cell_type": "markdown",
   "metadata": {},
   "source": [
    "### Part 1"
   ]
  },
  {
   "cell_type": "code",
   "execution_count": 23,
   "metadata": {},
   "outputs": [
    {
     "data": {
      "text/plain": [
       "(130, 130)"
      ]
     },
     "execution_count": 23,
     "metadata": {},
     "output_type": "execute_result"
    }
   ],
   "source": [
    "import csv\n",
    "\n",
    "INPUT_DATA = \"puzzle_input.csv\"\n",
    "\n",
    "with open(INPUT_DATA, newline='') as csvfile:\n",
    "    reader = csv.reader(csvfile)\n",
    "    #reader = list(reader)\n",
    "\n",
    "    data = []\n",
    "    for row in reader:\n",
    "        data.append([element for element in row[0]])\n",
    "\n",
    "len(data), len(data[0])"
   ]
  },
  {
   "cell_type": "code",
   "execution_count": 24,
   "metadata": {},
   "outputs": [],
   "source": [
    "COORD_DIR = {\n",
    "    \"N\": (-1, 0),\n",
    "    \"S\": (1, 0),\n",
    "    \"E\": (0, 1),\n",
    "    \"W\": (0, -1),\n",
    "}\n",
    "\n",
    "DIR = {\n",
    "    \"^\": \"N\",\n",
    "    \"v\": \"S\",\n",
    "    \">\": \"E\",\n",
    "    \"<\": \"W\",\n",
    "}\n",
    "\n",
    "CHANGE_DIR = {\n",
    "    # 90 degrees to the right\n",
    "    \"N\": \"E\",\n",
    "    \"E\": \"S\",\n",
    "    \"S\": \"W\",\n",
    "    \"W\": \"N\",\n",
    "}\n",
    "\n",
    "OBSTACLE = \"#\"\n",
    "\n",
    "def find_start(data):\n",
    "    for i, row in enumerate(data):\n",
    "        for j, element in enumerate(row):\n",
    "            if element in DIR.keys():\n",
    "                return (i, j), DIR[element]\n",
    "\n",
    "def number_of_position_visited(data):\n",
    "    start, direction = find_start(data)\n",
    "\n",
    "    visited = set()\n",
    "    visited.add(start)\n",
    "    i, j = start\n",
    "\n",
    "    while True:\n",
    "        i += COORD_DIR[direction][0]\n",
    "        j += COORD_DIR[direction][1]\n",
    "\n",
    "        if i < 0 or i >= len(data) or j < 0 or j >= len(data[0]):\n",
    "            break\n",
    "\n",
    "        if data[i][j] == OBSTACLE:\n",
    "            i -= COORD_DIR[direction][0]\n",
    "            j -= COORD_DIR[direction][1]\n",
    "            direction = CHANGE_DIR[direction]\n",
    "        \n",
    "        visited.add((i, j))\n",
    "    #print(visited)\n",
    "    \n",
    "    return len(visited)"
   ]
  },
  {
   "cell_type": "code",
   "execution_count": 25,
   "metadata": {},
   "outputs": [
    {
     "data": {
      "text/plain": [
       "7"
      ]
     },
     "execution_count": 25,
     "metadata": {},
     "output_type": "execute_result"
    }
   ],
   "source": [
    "dummy_data = [\n",
    "    [\".\", \".\", \".\", \".\", \"#\", \".\", \".\", \".\", \".\", \".\"],\n",
    "    [\".\", \".\", \".\", \".\", \".\", \".\", \".\", \".\", \"#\", \".\"],\n",
    "    [\".\", \".\", \".\", \".\", \".\", \".\", \".\", \".\", \".\", \".\"],\n",
    "    [\".\", \".\", \"#\", \".\", \".\", \".\", \".\", \".\", \".\", \".\"],\n",
    "    [\".\", \".\", \".\", \".\", \".\", \".\", \".\", \".\", \"#\", \".\"],\n",
    "    [\".\", \".\", \".\", \".\", \".\", \".\", \".\", \".\", \".\", \".\"],\n",
    "    [\".\", \"#\", \".\", \".\", \".\", \"^\", \".\", \".\", \".\", \".\"],\n",
    "    [\".\", \".\", \".\", \".\", \".\", \".\", \".\", \".\", \"#\", \".\"],\n",
    "    [\"#\", \".\", \".\", \".\", \".\", \".\", \".\", \".\", \".\", \".\"],\n",
    "    [\".\", \".\", \".\", \".\", \".\", \".\", \"#\", \".\", \".\", \".\"],\n",
    "]\n",
    "\n",
    "number_of_position_visited(dummy_data)"
   ]
  },
  {
   "cell_type": "code",
   "execution_count": 26,
   "metadata": {},
   "outputs": [
    {
     "data": {
      "text/plain": [
       "36"
      ]
     },
     "execution_count": 26,
     "metadata": {},
     "output_type": "execute_result"
    }
   ],
   "source": [
    "dummy_data = [\n",
    "    [\".\", \".\", \".\", \".\", \"#\", \".\", \".\", \".\", \".\"],\n",
    "    [\".\", \".\", \".\", \".\", \".\", \".\", \".\", \".\", \"#\"],\n",
    "    [\".\", \".\", \".\", \".\", \".\", \".\", \".\", \".\", \".\"],\n",
    "    [\".\", \".\", \"#\", \".\", \".\", \".\", \".\", \".\", \".\"],\n",
    "    [\".\", \".\", \".\", \".\", \".\", \".\", \"#\", \".\", \".\"],\n",
    "    [\".\", \".\", \".\", \".\", \".\", \".\", \".\", \".\", \".\"],\n",
    "    [\".\", \"#\", \".\", \".\", \"^\", \".\", \".\", \".\", \".\"],\n",
    "    [\".\", \".\", \".\", \".\", \".\", \".\", \".\", \"#\", \".\"],\n",
    "    [\"#\", \".\", \".\", \".\", \".\", \".\", \".\", \".\", \".\"],\n",
    "    [\".\", \".\", \".\", \".\", \".\", \"#\", \".\", \".\", \".\"],\n",
    "]\n",
    "\n",
    "number_of_position_visited(dummy_data)"
   ]
  },
  {
   "cell_type": "code",
   "execution_count": 27,
   "metadata": {},
   "outputs": [
    {
     "data": {
      "text/plain": [
       "4663"
      ]
     },
     "execution_count": 27,
     "metadata": {},
     "output_type": "execute_result"
    }
   ],
   "source": [
    "number_of_position_visited(data)"
   ]
  },
  {
   "cell_type": "markdown",
   "metadata": {},
   "source": [
    "### Part 2"
   ]
  },
  {
   "cell_type": "code",
   "execution_count": null,
   "metadata": {},
   "outputs": [],
   "source": [
    "def number_of_cicles(data):\n",
    "    start, direction = find_start(data)\n",
    "\n",
    "    visited = set()\n",
    "    visited.add(start)\n",
    "    i, j = start\n",
    "\n",
    "    while True:\n",
    "        i += COORD_DIR[direction][0]\n",
    "        j += COORD_DIR[direction][1]\n",
    "\n",
    "        if i < 0 or i >= len(data) or j < 0 or j >= len(data[0]):\n",
    "            break\n",
    "\n",
    "        if data[i][j] == OBSTACLE:\n",
    "            i -= COORD_DIR[direction][0]\n",
    "            j -= COORD_DIR[direction][1]\n",
    "            direction = CHANGE_DIR[direction]\n",
    "        \n",
    "        visited.add((i, j))\n",
    "    #print(visited)\n",
    "    \n",
    "    return len(visited)"
   ]
  }
 ],
 "metadata": {
  "kernelspec": {
   "display_name": "base",
   "language": "python",
   "name": "python3"
  },
  "language_info": {
   "codemirror_mode": {
    "name": "ipython",
    "version": 3
   },
   "file_extension": ".py",
   "mimetype": "text/x-python",
   "name": "python",
   "nbconvert_exporter": "python",
   "pygments_lexer": "ipython3",
   "version": "3.10.9"
  }
 },
 "nbformat": 4,
 "nbformat_minor": 2
}
