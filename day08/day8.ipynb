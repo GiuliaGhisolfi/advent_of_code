{
 "cells": [
  {
   "cell_type": "markdown",
   "metadata": {},
   "source": [
    "### Part 1"
   ]
  },
  {
   "cell_type": "code",
   "execution_count": 18,
   "metadata": {},
   "outputs": [
    {
     "data": {
      "text/plain": [
       "(50, 50)"
      ]
     },
     "execution_count": 18,
     "metadata": {},
     "output_type": "execute_result"
    }
   ],
   "source": [
    "import csv\n",
    "\n",
    "INPUT_DATA = \"puzzle_input.csv\"\n",
    "\n",
    "with open(INPUT_DATA, newline='') as csvfile:\n",
    "    reader = csv.reader(csvfile)\n",
    "    reader = list(reader)\n",
    "\n",
    "    data = [list(row[0]) for row in reader]\n",
    "\n",
    "len(data), len(data[0])"
   ]
  },
  {
   "cell_type": "code",
   "execution_count": 22,
   "metadata": {},
   "outputs": [
    {
     "data": {
      "text/plain": [
       "True"
      ]
     },
     "execution_count": 22,
     "metadata": {},
     "output_type": "execute_result"
    }
   ],
   "source": [
    "\"8\" in data[0]"
   ]
  },
  {
   "cell_type": "code",
   "execution_count": 3,
   "metadata": {},
   "outputs": [
    {
     "name": "stdout",
     "output_type": "stream",
     "text": [
      "[['.', '.', '.', '.', '.', '.', '.', '.', '.', '.', '.', '.'], ['.', '.', '.', '.', '.', '.', '.', '.', '0', '.', '.', '.'], ['.', '.', '.', '.', '.', '0', '.', '.', '.', '.', '.', '.'], ['.', '.', '.', '.', '.', '.', '.', '0', '.', '.', '.', '.'], ['.', '.', '.', '.', '0', '.', '.', '.', '.', '.', '.', '.'], ['.', '.', '.', '.', '.', '.', 'A', '.', '.', '.', '.', '.'], ['.', '.', '.', '.', '.', '.', '.', '.', '.', '.', '.', '.'], ['.', '.', '.', '.', '.', '.', '.', '.', '.', '.', '.', '.'], ['.', '.', '.', '.', '.', '.', '.', '.', 'A', '.', '.', '.'], ['.', '.', '.', '.', '.', '.', '.', '.', '.', 'A', '.', '.'], ['.', '.', '.', '.', '.', '.', '.', '.', '.', '.', '.', '.'], ['.', '.', '.', '.', '.', '.', '.', '.', '.', '.', '.', '.']]\n"
     ]
    }
   ],
   "source": [
    "dummy_data = [\n",
    "    \"............\",\n",
    "    \"........0...\",\n",
    "    \".....0......\",\n",
    "    \".......0....\",\n",
    "    \"....0.......\",\n",
    "    \"......A.....\",\n",
    "    \"............\",\n",
    "    \"............\",\n",
    "    \"........A...\",\n",
    "    \".........A..\",\n",
    "    \"............\",\n",
    "    \"............\"\n",
    "]\n",
    "\n",
    "dummy_matrix = [list(row) for row in dummy_data]\n",
    "print(dummy_matrix)\n"
   ]
  },
  {
   "cell_type": "code",
   "execution_count": 24,
   "metadata": {},
   "outputs": [
    {
     "data": {
      "text/plain": [
       "({'.',\n",
       "  '0',\n",
       "  '1',\n",
       "  '2',\n",
       "  '3',\n",
       "  '4',\n",
       "  '5',\n",
       "  '6',\n",
       "  '7',\n",
       "  '8',\n",
       "  '9',\n",
       "  'A',\n",
       "  'B',\n",
       "  'C',\n",
       "  'E',\n",
       "  'F',\n",
       "  'G',\n",
       "  'I',\n",
       "  'L',\n",
       "  'M',\n",
       "  'N',\n",
       "  'P',\n",
       "  'Q',\n",
       "  'S',\n",
       "  'T',\n",
       "  'V',\n",
       "  'W',\n",
       "  'a',\n",
       "  'b',\n",
       "  'c',\n",
       "  'e',\n",
       "  'f',\n",
       "  'g',\n",
       "  'i',\n",
       "  'l',\n",
       "  'm',\n",
       "  'n',\n",
       "  'p',\n",
       "  'q',\n",
       "  's',\n",
       "  't',\n",
       "  'v',\n",
       "  'w'},\n",
       " 43)"
      ]
     },
     "execution_count": 24,
     "metadata": {},
     "output_type": "execute_result"
    }
   ],
   "source": [
    "# different elements in the matrix\n",
    "def count_elements(matrix):\n",
    "    elements = set()\n",
    "    for row in matrix:\n",
    "        for element in row:\n",
    "            elements.add(element)\n",
    "    return elements\n",
    "\n",
    "count_elements(data), len(count_elements(data))"
   ]
  },
  {
   "cell_type": "code",
   "execution_count": 25,
   "metadata": {},
   "outputs": [],
   "source": [
    "def find_all_position(data, element):\n",
    "    positions = []\n",
    "    for i, row in enumerate(data):\n",
    "        for j, el in enumerate(row):\n",
    "            if el == element:\n",
    "                positions.append((i, j))\n",
    "    return positions\n",
    "\n",
    "def all_possible_couples(positions):\n",
    "    couples = []\n",
    "    for i, pos1 in enumerate(positions):\n",
    "        for pos2 in positions[i+1:]:\n",
    "            couples.append((pos1, pos2))\n",
    "    return couples\n",
    "\n",
    "def distance(pos1, pos2):\n",
    "    return abs(pos1[0] - pos2[0]), abs(pos1[1] - pos2[1])\n",
    "\n",
    "def solution(data):\n",
    "    elements = count_elements(data)\n",
    "    elements.remove(\".\")\n",
    "    elements = list(elements)\n",
    "\n",
    "    m = len(data)\n",
    "    n = len(data[0])\n",
    "    points = set()\n",
    "\n",
    "    for element in elements:\n",
    "        positions = find_all_position(data, element)\n",
    "        if len(positions) > 1:\n",
    "            couples = all_possible_couples(positions)\n",
    "\n",
    "            for couple in couples:\n",
    "                x_dist, y_dist = distance(*couple)\n",
    "                x1, y1 = couple[0]\n",
    "                x2, y2 = couple[1]\n",
    "\n",
    "                if x1 <= x2:\n",
    "                    xn1 = x1 - x_dist\n",
    "                    xn2 = x2 + x_dist\n",
    "                else:\n",
    "                    xn1 = x1 + x_dist\n",
    "                    xn2 = x2 - x_dist\n",
    "\n",
    "                if y1 <= y2:\n",
    "                    yn1 = y1 - y_dist\n",
    "                    yn2 = y2 + y_dist\n",
    "                else:\n",
    "                    yn1 = y1 + y_dist\n",
    "                    yn2 = y2 - y_dist\n",
    "                \n",
    "                if xn1 >= 0 and xn1 < m and yn1 >= 0 and yn1 < n:\n",
    "                    points.add((xn1, yn1))\n",
    "                if xn2 >= 0 and xn2 < m and yn2 >= 0 and yn2 < n:\n",
    "                    points.add((xn2, yn2))\n",
    "    \n",
    "    return len(points)"
   ]
  },
  {
   "cell_type": "code",
   "execution_count": 26,
   "metadata": {},
   "outputs": [
    {
     "data": {
      "text/plain": [
       "14"
      ]
     },
     "execution_count": 26,
     "metadata": {},
     "output_type": "execute_result"
    }
   ],
   "source": [
    "solution(dummy_matrix)"
   ]
  },
  {
   "cell_type": "code",
   "execution_count": 27,
   "metadata": {},
   "outputs": [
    {
     "data": {
      "text/plain": [
       "280"
      ]
     },
     "execution_count": 27,
     "metadata": {},
     "output_type": "execute_result"
    }
   ],
   "source": [
    "solution(data)"
   ]
  },
  {
   "cell_type": "markdown",
   "metadata": {},
   "source": [
    "### Part 2"
   ]
  },
  {
   "cell_type": "code",
   "execution_count": 28,
   "metadata": {},
   "outputs": [],
   "source": [
    "def new_solution(data):\n",
    "    elements = count_elements(data)\n",
    "    elements.remove(\".\")\n",
    "    elements = list(elements)\n",
    "\n",
    "    m = len(data)\n",
    "    n = len(data[0])\n",
    "    points = set()\n",
    "\n",
    "    for element in elements:\n",
    "        positions = find_all_position(data, element)\n",
    "        if len(positions) > 1:\n",
    "            couples = all_possible_couples(positions)\n",
    "\n",
    "            for couple in couples:\n",
    "                x_dist, y_dist = distance(*couple)\n",
    "                x1, y1 = couple[0]\n",
    "                x2, y2 = couple[1]\n",
    "\n",
    "                xn = x1\n",
    "                yn = y1\n",
    "                delta_x = -x_dist if x1 <= x2 else x_dist\n",
    "                delta_y = -y_dist if y1 <= y2 else y_dist\n",
    "\n",
    "                while xn >= 0 and xn < m and yn >= 0 and yn < n:\n",
    "                    points.add((xn, yn))\n",
    "                    xn += delta_x\n",
    "                    yn += delta_y\n",
    "                \n",
    "                xn = x2\n",
    "                yn = y2\n",
    "                delta_x = -delta_x\n",
    "                delta_y = -delta_y\n",
    "\n",
    "                while xn >= 0 and xn < m and yn >= 0 and yn < n:\n",
    "                    points.add((xn, yn))\n",
    "                    xn += delta_x\n",
    "                    yn += delta_y\n",
    "\n",
    "    return len(points)"
   ]
  },
  {
   "cell_type": "code",
   "execution_count": 29,
   "metadata": {},
   "outputs": [
    {
     "data": {
      "text/plain": [
       "34"
      ]
     },
     "execution_count": 29,
     "metadata": {},
     "output_type": "execute_result"
    }
   ],
   "source": [
    "new_solution(dummy_matrix)"
   ]
  },
  {
   "cell_type": "code",
   "execution_count": 30,
   "metadata": {},
   "outputs": [
    {
     "data": {
      "text/plain": [
       "958"
      ]
     },
     "execution_count": 30,
     "metadata": {},
     "output_type": "execute_result"
    }
   ],
   "source": [
    "new_solution(data)"
   ]
  }
 ],
 "metadata": {
  "kernelspec": {
   "display_name": "base",
   "language": "python",
   "name": "python3"
  },
  "language_info": {
   "codemirror_mode": {
    "name": "ipython",
    "version": 3
   },
   "file_extension": ".py",
   "mimetype": "text/x-python",
   "name": "python",
   "nbconvert_exporter": "python",
   "pygments_lexer": "ipython3",
   "version": "3.10.9"
  }
 },
 "nbformat": 4,
 "nbformat_minor": 2
}
