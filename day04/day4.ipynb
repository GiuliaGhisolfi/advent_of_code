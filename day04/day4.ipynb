{
 "cells": [
  {
   "cell_type": "markdown",
   "metadata": {},
   "source": [
    "### Part 1"
   ]
  },
  {
   "cell_type": "code",
   "execution_count": 35,
   "metadata": {},
   "outputs": [
    {
     "data": {
      "text/plain": [
       "(140, 140)"
      ]
     },
     "execution_count": 35,
     "metadata": {},
     "output_type": "execute_result"
    }
   ],
   "source": [
    "import csv\n",
    "\n",
    "INPUT_DATA = 'puzzle_input.csv'\n",
    "\n",
    "with open(INPUT_DATA, newline='') as csvfile:\n",
    "    data_csv = csv.reader(csvfile, delimiter='|')\n",
    "    data_list = [row for row in data_csv]\n",
    "\n",
    "    # split row in letters\n",
    "    xmas_grid = []\n",
    "    for row in data_list:\n",
    "        dummy = []\n",
    "        for letter in row[0]:\n",
    "            dummy.append(letter)\n",
    "        xmas_grid.append(dummy)\n",
    "\n",
    "len(xmas_grid), len(xmas_grid[0])"
   ]
  },
  {
   "cell_type": "code",
   "execution_count": 36,
   "metadata": {},
   "outputs": [
    {
     "data": {
      "text/plain": [
       "['S',\n",
       " 'A',\n",
       " 'M',\n",
       " 'X',\n",
       " 'M',\n",
       " 'A',\n",
       " 'X',\n",
       " 'X',\n",
       " 'A',\n",
       " 'M',\n",
       " 'A',\n",
       " 'M',\n",
       " 'S',\n",
       " 'S',\n",
       " 'S',\n",
       " 'S',\n",
       " 'S',\n",
       " 'M',\n",
       " 'X',\n",
       " 'M',\n",
       " 'A',\n",
       " 'X',\n",
       " 'X',\n",
       " 'M',\n",
       " 'S',\n",
       " 'M',\n",
       " 'M',\n",
       " 'M',\n",
       " 'M',\n",
       " 'A',\n",
       " 'S',\n",
       " 'A',\n",
       " 'M',\n",
       " 'X',\n",
       " 'S',\n",
       " 'A',\n",
       " 'M',\n",
       " 'X',\n",
       " 'A',\n",
       " 'M',\n",
       " 'M',\n",
       " 'S',\n",
       " 'M',\n",
       " 'X',\n",
       " 'S',\n",
       " 'A',\n",
       " 'M',\n",
       " 'X',\n",
       " 'S',\n",
       " 'S',\n",
       " 'S',\n",
       " 'S',\n",
       " 'M',\n",
       " 'M',\n",
       " 'M',\n",
       " 'A',\n",
       " 'M',\n",
       " 'X',\n",
       " 'M',\n",
       " 'M',\n",
       " 'M',\n",
       " 'M',\n",
       " 'M',\n",
       " 'S',\n",
       " 'M',\n",
       " 'S',\n",
       " 'M',\n",
       " 'S',\n",
       " 'M',\n",
       " 'M',\n",
       " 'S',\n",
       " 'X',\n",
       " 'X',\n",
       " 'A',\n",
       " 'S',\n",
       " 'M',\n",
       " 'X',\n",
       " 'S',\n",
       " 'M',\n",
       " 'S',\n",
       " 'M',\n",
       " 'A',\n",
       " 'A',\n",
       " 'X',\n",
       " 'S',\n",
       " 'S',\n",
       " 'X',\n",
       " 'M',\n",
       " 'X',\n",
       " 'M',\n",
       " 'A',\n",
       " 'M',\n",
       " 'A',\n",
       " 'S',\n",
       " 'A',\n",
       " 'S',\n",
       " 'A',\n",
       " 'A',\n",
       " 'X',\n",
       " 'X',\n",
       " 'S',\n",
       " 'A',\n",
       " 'M',\n",
       " 'X',\n",
       " 'X',\n",
       " 'M',\n",
       " 'A',\n",
       " 'S',\n",
       " 'X',\n",
       " 'M',\n",
       " 'X',\n",
       " 'A',\n",
       " 'M',\n",
       " 'X',\n",
       " 'S',\n",
       " 'S',\n",
       " 'M',\n",
       " 'M',\n",
       " 'S',\n",
       " 'A',\n",
       " 'M',\n",
       " 'X',\n",
       " 'X',\n",
       " 'M',\n",
       " 'X',\n",
       " 'X',\n",
       " 'M',\n",
       " 'A',\n",
       " 'M',\n",
       " 'X',\n",
       " 'M',\n",
       " 'S',\n",
       " 'S',\n",
       " 'S',\n",
       " 'M',\n",
       " 'X',\n",
       " 'X',\n",
       " 'S',\n",
       " 'A',\n",
       " 'S']"
      ]
     },
     "execution_count": 36,
     "metadata": {},
     "output_type": "execute_result"
    }
   ],
   "source": [
    "xmas_grid[0]"
   ]
  },
  {
   "cell_type": "code",
   "execution_count": 25,
   "metadata": {},
   "outputs": [],
   "source": [
    "XMAS = \"XMAS\"\n",
    "LETTER = {\n",
    "    0: \"X\",\n",
    "    1: \"M\",\n",
    "    2: \"A\",\n",
    "    3: \"S\"\n",
    "}\n",
    "NUMBER_OF_LETTERS = 4\n",
    "\n",
    "def search_xmas(xmas_grid):\n",
    "    m = len(xmas_grid)\n",
    "    n = len(xmas_grid[0])\n",
    "    count = 0\n",
    "\n",
    "    for i in range(m):\n",
    "        for j in range(n):\n",
    "            if xmas_grid[i][j] == \"X\":\n",
    "                count += number_of_xmas(i, j, xmas_grid, 0, 1, 1)\n",
    "                count += number_of_xmas(i, j, xmas_grid, 1, 0, 1)\n",
    "                count += number_of_xmas(i, j, xmas_grid, 1, 1, 1)\n",
    "                count += number_of_xmas(i, j, xmas_grid, -1, 1, 1)\n",
    "                count += number_of_xmas(i, j, xmas_grid, 1, -1, 1)\n",
    "                count += number_of_xmas(i, j, xmas_grid, -1, -1, 1)\n",
    "                count += number_of_xmas(i, j, xmas_grid, 0, -1, 1)\n",
    "                count += number_of_xmas(i, j, xmas_grid, -1, 0, 1)\n",
    "    \n",
    "    return count\n",
    "\n",
    "def number_of_xmas(i, j, xmas_grid, increment_i, increment_j, letter_number):\n",
    "    if letter_number == NUMBER_OF_LETTERS:\n",
    "        return 1 # Found XMAS\n",
    "    \n",
    "    m = len(xmas_grid)\n",
    "    n = len(xmas_grid[0])\n",
    "\n",
    "    i = i + increment_i\n",
    "    j = j + increment_j\n",
    "\n",
    "    if (i >= 0 and i < m) and (j >= 0 and j < n) and xmas_grid[i][j] == LETTER[letter_number]:\n",
    "        return number_of_xmas(i, j, xmas_grid, increment_i, increment_j, letter_number+1)\n",
    "    else:\n",
    "        return 0"
   ]
  },
  {
   "cell_type": "code",
   "execution_count": 26,
   "metadata": {},
   "outputs": [
    {
     "data": {
      "text/plain": [
       "18"
      ]
     },
     "execution_count": 26,
     "metadata": {},
     "output_type": "execute_result"
    }
   ],
   "source": [
    "dummy_grid = [\n",
    "    [\"M\", \"M\", \"M\", \"S\", \"X\", \"X\", \"M\", \"A\", \"S\", \"M\"],\n",
    "    [\"M\", \"S\", \"A\", \"M\", \"X\", \"M\", \"S\", \"M\", \"S\", \"A\"],\n",
    "    [\"A\", \"M\", \"X\", \"S\", \"X\", \"M\", \"A\", \"A\", \"M\", \"M\"],\n",
    "    [\"M\", \"S\", \"A\", \"M\", \"A\", \"S\", \"M\", \"S\", \"M\", \"X\"],\n",
    "    [\"X\", \"M\", \"A\", \"S\", \"A\", \"M\", \"X\", \"A\", \"M\", \"M\"],\n",
    "    [\"X\", \"X\", \"A\", \"M\", \"M\", \"X\", \"X\", \"A\", \"M\", \"A\"],\n",
    "    [\"S\", \"M\", \"S\", \"M\", \"S\", \"A\", \"S\", \"X\", \"S\", \"S\"],\n",
    "    [\"S\", \"A\", \"X\", \"A\", \"M\", \"A\", \"S\", \"A\", \"A\", \"A\"],\n",
    "    [\"M\", \"A\", \"M\", \"M\", \"M\", \"X\", \"M\", \"M\", \"M\", \"M\"],\n",
    "    [\"M\", \"X\", \"M\", \"X\", \"A\", \"X\", \"M\", \"A\", \"S\", \"X\"]\n",
    "]\n",
    "\n",
    "search_xmas(dummy_grid)"
   ]
  },
  {
   "cell_type": "code",
   "execution_count": 37,
   "metadata": {},
   "outputs": [
    {
     "data": {
      "text/plain": [
       "2521"
      ]
     },
     "execution_count": 37,
     "metadata": {},
     "output_type": "execute_result"
    }
   ],
   "source": [
    "search_xmas(xmas_grid)"
   ]
  },
  {
   "cell_type": "markdown",
   "metadata": {},
   "source": [
    "### Part 2"
   ]
  },
  {
   "cell_type": "code",
   "execution_count": 38,
   "metadata": {},
   "outputs": [],
   "source": [
    "def search_x_mas(xmas_grid):\n",
    "    m = len(xmas_grid)\n",
    "    n = len(xmas_grid[0])\n",
    "    count = 0\n",
    "\n",
    "    for i in range(1, m-1):\n",
    "        for j in range(1, n-1):\n",
    "            if xmas_grid[i][j] == \"A\":\n",
    "                if (((xmas_grid[i-1][j-1] == \"M\" and xmas_grid[i+1][j+1] == \"S\") or\n",
    "                    (xmas_grid[i-1][j-1] == \"S\" and xmas_grid[i+1][j+1] == \"M\")) and\n",
    "                    ((xmas_grid[i-1][j+1] == \"M\" and xmas_grid[i+1][j-1] == \"S\") or\n",
    "                    (xmas_grid[i-1][j+1] == \"S\" and xmas_grid[i+1][j-1] == \"M\"))):\n",
    "                    count += 1\n",
    "    \n",
    "    return count"
   ]
  },
  {
   "cell_type": "code",
   "execution_count": 39,
   "metadata": {},
   "outputs": [
    {
     "data": {
      "text/plain": [
       "9"
      ]
     },
     "execution_count": 39,
     "metadata": {},
     "output_type": "execute_result"
    }
   ],
   "source": [
    "search_x_mas(dummy_grid)"
   ]
  },
  {
   "cell_type": "code",
   "execution_count": 40,
   "metadata": {},
   "outputs": [
    {
     "data": {
      "text/plain": [
       "1912"
      ]
     },
     "execution_count": 40,
     "metadata": {},
     "output_type": "execute_result"
    }
   ],
   "source": [
    "search_x_mas(xmas_grid)"
   ]
  }
 ],
 "metadata": {
  "kernelspec": {
   "display_name": "base",
   "language": "python",
   "name": "python3"
  },
  "language_info": {
   "codemirror_mode": {
    "name": "ipython",
    "version": 3
   },
   "file_extension": ".py",
   "mimetype": "text/x-python",
   "name": "python",
   "nbconvert_exporter": "python",
   "pygments_lexer": "ipython3",
   "version": "3.10.9"
  }
 },
 "nbformat": 4,
 "nbformat_minor": 2
}
