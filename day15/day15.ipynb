{
 "cells": [
  {
   "cell_type": "markdown",
   "metadata": {},
   "source": [
    "### Part 1"
   ]
  },
  {
   "cell_type": "code",
   "execution_count": 1,
   "metadata": {},
   "outputs": [
    {
     "data": {
      "text/plain": [
       "(50, 50, 20000)"
      ]
     },
     "execution_count": 1,
     "metadata": {},
     "output_type": "execute_result"
    }
   ],
   "source": [
    "import csv\n",
    "\n",
    "INPUT_DATA = \"puzzle_input.csv\"\n",
    "\n",
    "with open(INPUT_DATA, newline='') as csvfile:\n",
    "    reader = csv.reader(csvfile, delimiter=' ')\n",
    "    reader = list(reader)\n",
    "\n",
    "    matrix = []\n",
    "    for row in reader[:50]:\n",
    "        temp = [elem for elem in row[0]]\n",
    "        matrix.append(temp)\n",
    "\n",
    "            \n",
    "\n",
    "    moves = []\n",
    "    for row in reader[51:]:\n",
    "        for elem in row[0]:\n",
    "            moves.append(elem)\n",
    "\n",
    "len(matrix), len(matrix[0]), len(moves)"
   ]
  },
  {
   "cell_type": "code",
   "execution_count": 2,
   "metadata": {},
   "outputs": [
    {
     "data": {
      "text/plain": [
       "[['#',\n",
       "  '#',\n",
       "  '#',\n",
       "  '#',\n",
       "  '#',\n",
       "  '#',\n",
       "  '#',\n",
       "  '#',\n",
       "  '#',\n",
       "  '#',\n",
       "  '#',\n",
       "  '#',\n",
       "  '#',\n",
       "  '#',\n",
       "  '#',\n",
       "  '#',\n",
       "  '#',\n",
       "  '#',\n",
       "  '#',\n",
       "  '#',\n",
       "  '#',\n",
       "  '#',\n",
       "  '#',\n",
       "  '#',\n",
       "  '#',\n",
       "  '#',\n",
       "  '#',\n",
       "  '#',\n",
       "  '#',\n",
       "  '#',\n",
       "  '#',\n",
       "  '#',\n",
       "  '#',\n",
       "  '#',\n",
       "  '#',\n",
       "  '#',\n",
       "  '#',\n",
       "  '#',\n",
       "  '#',\n",
       "  '#',\n",
       "  '#',\n",
       "  '#',\n",
       "  '#',\n",
       "  '#',\n",
       "  '#',\n",
       "  '#',\n",
       "  '#',\n",
       "  '#',\n",
       "  '#',\n",
       "  '#'],\n",
       " ['#',\n",
       "  '.',\n",
       "  '.',\n",
       "  '.',\n",
       "  'O',\n",
       "  '.',\n",
       "  'O',\n",
       "  '.',\n",
       "  '.',\n",
       "  'O',\n",
       "  '.',\n",
       "  '.',\n",
       "  'O',\n",
       "  '.',\n",
       "  '.',\n",
       "  '.',\n",
       "  'O',\n",
       "  '.',\n",
       "  '.',\n",
       "  '.',\n",
       "  '.',\n",
       "  '.',\n",
       "  '.',\n",
       "  '.',\n",
       "  '.',\n",
       "  '.',\n",
       "  '.',\n",
       "  'O',\n",
       "  '.',\n",
       "  'O',\n",
       "  '.',\n",
       "  'O',\n",
       "  '.',\n",
       "  'O',\n",
       "  '.',\n",
       "  '.',\n",
       "  '.',\n",
       "  '.',\n",
       "  '.',\n",
       "  'O',\n",
       "  '.',\n",
       "  '.',\n",
       "  'O',\n",
       "  '.',\n",
       "  '#',\n",
       "  '.',\n",
       "  'O',\n",
       "  '#',\n",
       "  '.',\n",
       "  '#']]"
      ]
     },
     "execution_count": 2,
     "metadata": {},
     "output_type": "execute_result"
    }
   ],
   "source": [
    "matrix[:2]"
   ]
  },
  {
   "cell_type": "code",
   "execution_count": 3,
   "metadata": {},
   "outputs": [
    {
     "data": {
      "text/plain": [
       "['<', 'v', '^', '<', '^', '>', '^', '^', '^', '<']"
      ]
     },
     "execution_count": 3,
     "metadata": {},
     "output_type": "execute_result"
    }
   ],
   "source": [
    "moves[:10]"
   ]
  },
  {
   "cell_type": "code",
   "execution_count": 4,
   "metadata": {},
   "outputs": [],
   "source": [
    "dummy_matrix1 = [\n",
    "    ['#', '#', '#', '#', '#', '#', '#', '#'],\n",
    "    ['#', '.', '.', 'O', '.', 'O', '.', '#'],\n",
    "    ['#', '#', '@', '.', 'O', '.', '.', '#'],\n",
    "    ['#', '.', '.', '.', 'O', '.', '.', '#'],\n",
    "    ['#', '.', '#', '.', 'O', '.', '.', '#'],\n",
    "    ['#', '.', '.', '.', 'O', '.', '.', '#'],\n",
    "    ['#', '.', '.', '.', '.', '.', '.', '#'],\n",
    "    ['#', '#', '#', '#', '#', '#', '#', '#']\n",
    "]\n",
    "\n",
    "dummy_moves1 = ['<', '^', '^', '>', '>', '>', 'v', 'v', '<', 'v', '>', '>', 'v', '<', '<']"
   ]
  },
  {
   "cell_type": "code",
   "execution_count": 5,
   "metadata": {},
   "outputs": [],
   "source": [
    "temp = \"<vv>^<v^>v>^vv^v>v<>v^v<v<^vv<<<^><<><>>v<vvv<>^v^>^<<<><<v<<<v^vv^v>^vvv<<^>^v^^><<>>><>^<<><^vv^^<>vvv<>><^^v>^>vv<>v<<<<v<^v>^<^^>>>^<v<v><>vv>v^v^<>><>>>><^^>vv>v<^^^>>v^v^<^^>v^^>v^<^v>v<>>v^v^<v>v^^<^^vv<<<v<^>>^^^^>>>v^<>vvv^><v<<<>^^^vv^<vvv>^>v<^^^^v<>^>vvvv><>>v^<<^^^^^^><^><>>><>^^<<^^v>>><^<v>^<vv>>v>>>^v><>^v><<<<v>>v<v<v>vvv>^<><<>^><^>><>^v<><^vvv<^^<><v<<<<<><^v<<<><<<^^<v<^^^><^>>^<v^><<<^>>^v<v^v<v^>^>>^v>vv>^<<^v<>><<><<v<<v><>v<^vv<<<>^^v^>^^>>><<^v>>v^v><^^>>^<>vv^<><^^>^^^<><vvvvv^v<v<<>^v<v>v<<^><<><<><<<^^<<<^<<>><<><^^^>^^<>^>v<>^^>vv<^v^v<vv>^<><v<^v>^^^>>>^^vvv^>vvv<>>>^<^>>>>>^<<^v>^vvv<>^<><<v>v^^>>><<^^<>>^v^<v^vv<>v^<<>^<^v^v><^<<<><<^<v><v<>vv>>v><v^<vv<>v^<<^\"\n",
    "\n",
    "dummy_moves2 = [elem for elem in temp]\n",
    "\n",
    "dummy_matrix2 = [\n",
    "    [char for char in row] for row in [\n",
    "        \"##########\",\n",
    "        \"#..O..O.O#\",\n",
    "        \"#......O.#\",\n",
    "        \"#.OO..O.O#\",\n",
    "        \"#..O@..O.#\",\n",
    "        \"#O#..O...#\",\n",
    "        \"#O..O..O.#\",\n",
    "        \"#.OO.O.OO#\",\n",
    "        \"#....O...#\",\n",
    "        \"##########\"\n",
    "    ]\n",
    "]"
   ]
  },
  {
   "cell_type": "code",
   "execution_count": 6,
   "metadata": {},
   "outputs": [
    {
     "data": {
      "text/plain": [
       "[['#', '#', '#', '#', '#', '#', '#', '#', '#', '#'],\n",
       " ['#', '.', '.', 'O', '.', '.', 'O', '.', 'O', '#'],\n",
       " ['#', '.', '.', '.', '.', '.', '.', 'O', '.', '#'],\n",
       " ['#', '.', 'O', 'O', '.', '.', 'O', '.', 'O', '#'],\n",
       " ['#', '.', '.', 'O', '@', '.', '.', 'O', '.', '#'],\n",
       " ['#', 'O', '#', '.', '.', 'O', '.', '.', '.', '#'],\n",
       " ['#', 'O', '.', '.', 'O', '.', '.', 'O', '.', '#'],\n",
       " ['#', '.', 'O', 'O', '.', 'O', '.', 'O', 'O', '#'],\n",
       " ['#', '.', '.', '.', '.', 'O', '.', '.', '.', '#'],\n",
       " ['#', '#', '#', '#', '#', '#', '#', '#', '#', '#']]"
      ]
     },
     "execution_count": 6,
     "metadata": {},
     "output_type": "execute_result"
    }
   ],
   "source": [
    "dummy_matrix2"
   ]
  },
  {
   "cell_type": "markdown",
   "metadata": {},
   "source": [
    "Code:"
   ]
  },
  {
   "cell_type": "code",
   "execution_count": 7,
   "metadata": {},
   "outputs": [],
   "source": [
    "import copy\n",
    "\n",
    "MOVES = {\n",
    "    '^': (-1, 0),\n",
    "    'v': (1, 0),\n",
    "    '<': (0, -1),\n",
    "    '>': (0, 1)\n",
    "}\n",
    "ROBOT = '@'\n",
    "WALL = '#'\n",
    "BOX = 'O'\n",
    "\n",
    "def get_robot_position(matrix):\n",
    "    for i, row in enumerate(matrix):\n",
    "        for j, elem in enumerate(row):\n",
    "            if elem == ROBOT:\n",
    "                return i, j\n",
    "\n",
    "def move_box(matrix, x, y, dx, dy):\n",
    "    if matrix[x + dx][y + dy] == WALL:\n",
    "        return False\n",
    "\n",
    "    if matrix[x + dx][y + dy] == BOX:\n",
    "        temp = move_box(copy.deepcopy(matrix), x + dx, y + dy, dx, dy)\n",
    "        if not temp:\n",
    "            return False\n",
    "        matrix = temp\n",
    "\n",
    "    matrix[x + dx][y + dy] = BOX\n",
    "    matrix[x][y] = '.'\n",
    "\n",
    "    return matrix\n",
    "\n",
    "def get_next_position(matrix, position, move):\n",
    "    x_curr, y_curr = position\n",
    "    dx, dy = MOVES[move]\n",
    "\n",
    "    if matrix[x_curr + dx][y_curr + dy] == WALL:\n",
    "        return x_curr, y_curr, matrix\n",
    "\n",
    "    if matrix[x_curr + dx][y_curr + dy] == BOX:\n",
    "        temp = move_box(copy.deepcopy(matrix), x_curr + dx, y_curr + dy, dx, dy)\n",
    "        if temp:\n",
    "            matrix = temp\n",
    "        else:\n",
    "            return x_curr, y_curr, matrix\n",
    "\n",
    "    matrix[x_curr][y_curr] = '.'\n",
    "    matrix[x_curr + dx][y_curr + dy] = ROBOT\n",
    "    return x_curr + dx, y_curr + dy, matrix\n",
    "\n",
    "def final_conf(matrix, moves):\n",
    "    position = get_robot_position(matrix)\n",
    "    for move in moves:\n",
    "        x, y, matrix = get_next_position(copy.deepcopy(matrix), position, move)\n",
    "        position = (x, y)\n",
    "\n",
    "    return matrix\n",
    "\n",
    "def final_boxes_GPS_coordinates(matrix, moves, visualize=False):\n",
    "    matrix = final_conf(copy.deepcopy(matrix), moves)\n",
    "    if visualize:\n",
    "        print(\"\\n\".join(\"\".join(row) for row in matrix))  # print final configuration\n",
    "\n",
    "    res = 0\n",
    "    for i in range(len(matrix)):\n",
    "        for j in range(len(matrix[0])):\n",
    "            if matrix[i][j] == BOX:\n",
    "                res += i * 100 + j\n",
    "\n",
    "    return res\n"
   ]
  },
  {
   "cell_type": "markdown",
   "metadata": {},
   "source": [
    "Dummy 1:"
   ]
  },
  {
   "cell_type": "code",
   "execution_count": 8,
   "metadata": {},
   "outputs": [],
   "source": [
    "########\n",
    "#....OO#\n",
    "##.....#\n",
    "#.....O#\n",
    "#.#O@..#\n",
    "#...O..#\n",
    "#...O..#\n",
    "########"
   ]
  },
  {
   "cell_type": "code",
   "execution_count": 9,
   "metadata": {},
   "outputs": [
    {
     "name": "stdout",
     "output_type": "stream",
     "text": [
      "########\n",
      "#....OO#\n",
      "##.....#\n",
      "#.....O#\n",
      "#.#O@..#\n",
      "#...O..#\n",
      "#...O..#\n",
      "########\n"
     ]
    },
    {
     "data": {
      "text/plain": [
       "2028"
      ]
     },
     "execution_count": 9,
     "metadata": {},
     "output_type": "execute_result"
    }
   ],
   "source": [
    "final_boxes_GPS_coordinates(dummy_matrix1, dummy_moves1, visualize=True)"
   ]
  },
  {
   "cell_type": "markdown",
   "metadata": {},
   "source": [
    "Dummy 2:"
   ]
  },
  {
   "cell_type": "code",
   "execution_count": 10,
   "metadata": {},
   "outputs": [],
   "source": [
    "##########\n",
    "#.O.O.OOO#\n",
    "#........#\n",
    "#OO......#\n",
    "#OO@.....#\n",
    "#O#.....O#\n",
    "#O.....OO#\n",
    "#O.....OO#\n",
    "#OO....OO#\n",
    "##########"
   ]
  },
  {
   "cell_type": "code",
   "execution_count": 11,
   "metadata": {},
   "outputs": [
    {
     "name": "stdout",
     "output_type": "stream",
     "text": [
      "##########\n",
      "#.O.O.OOO#\n",
      "#........#\n",
      "#OO......#\n",
      "#OO@.....#\n",
      "#O#.....O#\n",
      "#O.....OO#\n",
      "#O.....OO#\n",
      "#OO....OO#\n",
      "##########\n"
     ]
    },
    {
     "data": {
      "text/plain": [
       "10092"
      ]
     },
     "execution_count": 11,
     "metadata": {},
     "output_type": "execute_result"
    }
   ],
   "source": [
    "final_boxes_GPS_coordinates(dummy_matrix2, dummy_moves2, visualize=True)"
   ]
  },
  {
   "cell_type": "markdown",
   "metadata": {},
   "source": [
    "Solution:"
   ]
  },
  {
   "cell_type": "code",
   "execution_count": 12,
   "metadata": {},
   "outputs": [
    {
     "data": {
      "text/plain": [
       "1499739"
      ]
     },
     "execution_count": 12,
     "metadata": {},
     "output_type": "execute_result"
    }
   ],
   "source": [
    "final_boxes_GPS_coordinates(matrix, moves)"
   ]
  },
  {
   "cell_type": "markdown",
   "metadata": {},
   "source": [
    "### Part 2:"
   ]
  },
  {
   "cell_type": "markdown",
   "metadata": {},
   "source": [
    "If the tile is #, the new map contains ## instead.\n",
    "\n",
    "If the tile is O, the new map contains [] instead.\n",
    "\n",
    "If the tile is ., the new map contains .. instead.\n",
    "\n",
    "If the tile is @, the new map contains @. instead."
   ]
  },
  {
   "cell_type": "code",
   "execution_count": 13,
   "metadata": {},
   "outputs": [],
   "source": [
    "NEW_MAP = {\n",
    "    '#': (\"#\", \"#\"),\n",
    "    'O': (\"[\", \"]\"),\n",
    "    '.': (\".\", \".\"),\n",
    "    '@': (\"@\", \".\")\n",
    "}\n",
    "\n",
    "def change_map(matrix):\n",
    "    new_matrix = []\n",
    "    for i in range(len(matrix)):\n",
    "        temp = []\n",
    "        for j in range(len(matrix[0])):\n",
    "            a, b = NEW_MAP[matrix[i][j]]\n",
    "            temp.append(a)\n",
    "            temp.append(b)\n",
    "        new_matrix.append(temp)\n",
    "    \n",
    "    return new_matrix\n"
   ]
  },
  {
   "cell_type": "code",
   "execution_count": 14,
   "metadata": {},
   "outputs": [
    {
     "name": "stdout",
     "output_type": "stream",
     "text": [
      "########\n",
      "#..O.O.#\n",
      "##@.O..#\n",
      "#...O..#\n",
      "#.#.O..#\n",
      "#...O..#\n",
      "#......#\n",
      "########\n",
      "################\n",
      "##....[]..[]..##\n",
      "####@...[]....##\n",
      "##......[]....##\n",
      "##..##..[]....##\n",
      "##......[]....##\n",
      "##............##\n",
      "################\n"
     ]
    }
   ],
   "source": [
    "print(\"\\n\".join(\"\".join(row) for row in dummy_matrix1))\n",
    "\n",
    "new_dummy_matrix1 = change_map(copy.deepcopy(dummy_matrix1))\n",
    "print(\"\\n\".join(\"\".join(row) for row in new_dummy_matrix1))"
   ]
  },
  {
   "cell_type": "code",
   "execution_count": 15,
   "metadata": {},
   "outputs": [
    {
     "name": "stdout",
     "output_type": "stream",
     "text": [
      "##########\n",
      "#..O..O.O#\n",
      "#......O.#\n",
      "#.OO..O.O#\n",
      "#..O@..O.#\n",
      "#O#..O...#\n",
      "#O..O..O.#\n",
      "#.OO.O.OO#\n",
      "#....O...#\n",
      "##########\n",
      "####################\n",
      "##....[]....[]..[]##\n",
      "##............[]..##\n",
      "##..[][]....[]..[]##\n",
      "##....[]@.....[]..##\n",
      "##[]##....[]......##\n",
      "##[]....[]....[]..##\n",
      "##..[][]..[]..[][]##\n",
      "##........[]......##\n",
      "####################\n"
     ]
    }
   ],
   "source": [
    "print(\"\\n\".join(\"\".join(row) for row in dummy_matrix2))\n",
    "\n",
    "new_dummy_matrix2 = change_map(copy.deepcopy(dummy_matrix2))\n",
    "print(\"\\n\".join(\"\".join(row) for row in new_dummy_matrix2))"
   ]
  },
  {
   "cell_type": "code",
   "execution_count": 16,
   "metadata": {},
   "outputs": [],
   "source": [
    "####################\n",
    "##....[]....[]..[]##\n",
    "##............[]..##\n",
    "##..[][]....[]..[]##\n",
    "##....[]@.....[]..##\n",
    "##[]##....[]......##\n",
    "##[]....[]....[]..##\n",
    "##..[][]..[]..[][]##\n",
    "##........[]......##\n",
    "####################"
   ]
  },
  {
   "cell_type": "code",
   "execution_count": 17,
   "metadata": {},
   "outputs": [],
   "source": [
    "new_matrix = change_map(copy.deepcopy(matrix))"
   ]
  },
  {
   "cell_type": "markdown",
   "metadata": {},
   "source": [
    "New code:"
   ]
  },
  {
   "cell_type": "code",
   "execution_count": 25,
   "metadata": {},
   "outputs": [],
   "source": [
    "import copy\n",
    "\n",
    "NEW_BOX = ['[', ']']\n",
    "\n",
    "def new_move_box(matrix, x, y, dx, dy, move):\n",
    "    if matrix[x + dx][y + dy] == WALL or matrix[x + 2 * dx][y + 2 * dy] == WALL:\n",
    "        return False\n",
    "\n",
    "    if matrix[x + dx][y + dy] in NEW_BOX:\n",
    "        temp = new_move_box(copy.deepcopy(matrix), x + dx, y + dy, dx, dy, move)\n",
    "        if not temp:\n",
    "            return False\n",
    "        matrix = temp\n",
    "\n",
    "    if matrix[x][y] == NEW_BOX[0]:  # Se è la parte sinistra della scatola\n",
    "        matrix[x + dx][y + dy] = NEW_BOX[0]\n",
    "        matrix[x + 2 * dx][y + 2 * dy] = NEW_BOX[1]\n",
    "    elif matrix[x][y] == NEW_BOX[1]:  # Se è la parte destra della scatola\n",
    "        matrix[x + dx][y + dy] = NEW_BOX[1]\n",
    "        matrix[x + 2 * dx][y + 2 * dy] = NEW_BOX[0]\n",
    "\n",
    "    matrix[x][y] = '.'\n",
    "\n",
    "    return matrix\n",
    "\n",
    "def new_get_next_position(matrix, position, move):\n",
    "    x_curr, y_curr = position\n",
    "    dx, dy = MOVES[move]\n",
    "\n",
    "    # wall\n",
    "    if matrix[x_curr + dx][y_curr + dy] == WALL:\n",
    "        return x_curr, y_curr, matrix\n",
    "\n",
    "    # move box\n",
    "    if matrix[x_curr + dx][y_curr + dy] in NEW_BOX:\n",
    "        temp = new_move_box(copy.deepcopy(matrix), x_curr + dx, y_curr + dy, dx, dy, move)\n",
    "        if temp:\n",
    "            matrix = temp\n",
    "        else:\n",
    "            return x_curr, y_curr, matrix\n",
    "\n",
    "    # Update robot position\n",
    "    matrix[x_curr][y_curr] = '.'\n",
    "    matrix[x_curr + dx][y_curr + dy] = ROBOT\n",
    "\n",
    "    return x_curr + dx, y_curr + dy, matrix\n",
    "\n",
    "def new_final_conf(matrix, moves, visualize):\n",
    "    position = get_robot_position(matrix)\n",
    "    if visualize:\n",
    "        print(\"\\n\".join(\"\".join(row) for row in matrix))\n",
    "\n",
    "    for move in moves:\n",
    "        x, y, matrix = new_get_next_position(copy.deepcopy(matrix), position, move)\n",
    "        position = (x, y)\n",
    "        if visualize:\n",
    "            print(move)\n",
    "            print(\"\\n\".join(\"\".join(row) for row in matrix))\n",
    "\n",
    "    return matrix\n",
    "\n",
    "def new_final_boxes_GPS_coordinates(matrix, moves, visualize=False):\n",
    "    matrix = new_final_conf(copy.deepcopy(matrix), moves, visualize)\n",
    "    if visualize:\n",
    "        print(\"\\n\".join(\"\".join(row) for row in matrix))  # Print final configuration\n",
    "\n",
    "    res = 0\n",
    "    for i in range(len(matrix)):\n",
    "        for j in range(len(matrix[0])):\n",
    "            if matrix[i][j] == NEW_BOX[0]:\n",
    "                res += i * 100 + j\n",
    "\n",
    "    return res\n"
   ]
  },
  {
   "cell_type": "code",
   "execution_count": 42,
   "metadata": {},
   "outputs": [],
   "source": [
    "def move_robot(warehouse_map, moves_sequence):\n",
    "    # Converte la mappa in una lista di liste per mutabilità\n",
    "    warehouse = [list(row) for row in warehouse_map]\n",
    "    rows, cols = len(warehouse), len(warehouse[0])\n",
    "\n",
    "    # Trova la posizione iniziale del robot\n",
    "    for i in range(rows):\n",
    "        for j in range(cols):\n",
    "            if warehouse[i][j] == \"@\":\n",
    "                robot_position = (i, j)\n",
    "                break\n",
    "\n",
    "    # Delta di movimento\n",
    "    move_deltas = {\n",
    "        \"^\": (-1, 0),\n",
    "        \"v\": (1, 0),\n",
    "        \"<\": (0, -1),\n",
    "        \">\": (0, 1),\n",
    "    }\n",
    "\n",
    "    for move in moves_sequence:\n",
    "        dr, dc = move_deltas[move]\n",
    "        new_row, new_col = robot_position[0] + dr, robot_position[1] + dc\n",
    "\n",
    "        # Controlla se il robot può muoversi\n",
    "        if warehouse[new_row][new_col] == \".\":\n",
    "            # Sposta il robot\n",
    "            warehouse[robot_position[0]][robot_position[1]] = \".\"\n",
    "            warehouse[new_row][new_col] = \"@\"\n",
    "            robot_position = (new_row, new_col)\n",
    "        elif warehouse[new_row][new_col] == \"[\" and warehouse[new_row][new_col + 1] == \"]\":\n",
    "            # Controlla se è possibile spingere la scatola\n",
    "            box_new_row, box_new_col = new_row + dr, new_col + dc\n",
    "            if (\n",
    "                0 <= box_new_row < rows\n",
    "                and 0 <= box_new_col + 1 < cols\n",
    "                and warehouse[box_new_row][box_new_col] == \".\"\n",
    "                and warehouse[box_new_row][box_new_col + 1] == \".\"\n",
    "            ):\n",
    "                # Spingi la scatola\n",
    "                warehouse[box_new_row][box_new_col] = \"[\"\n",
    "                warehouse[box_new_row][box_new_col + 1] = \"]\"\n",
    "                warehouse[new_row][new_col] = \"@\"\n",
    "                warehouse[new_row][new_col + 1] = \".\"\n",
    "                warehouse[robot_position[0]][robot_position[1]] = \".\"\n",
    "                robot_position = (new_row, new_col)\n",
    "\n",
    "    return warehouse\n"
   ]
  },
  {
   "cell_type": "code",
   "execution_count": 43,
   "metadata": {},
   "outputs": [],
   "source": [
    "def new_final_boxes_GPS_coordinates(matrix, moves):\n",
    "    final_warehouse = move_robot(matrix, moves)\n",
    "\n",
    "    gps_sum = 0\n",
    "    for i, row in enumerate(final_warehouse):\n",
    "        for j in range(0, len(row) - 1):\n",
    "            if row[j] == \"[\" and row[j + 1] == \"]\":\n",
    "                gps_sum += 100 * i + j\n",
    "    return gps_sum\n"
   ]
  },
  {
   "cell_type": "markdown",
   "metadata": {},
   "source": [
    "Dummy 2:"
   ]
  },
  {
   "cell_type": "code",
   "execution_count": 19,
   "metadata": {},
   "outputs": [],
   "source": [
    "####################\n",
    "##[].......[].[][]##\n",
    "##[]...........[].##\n",
    "##[]........[][][]##\n",
    "##[]......[]....[]##\n",
    "##..##......[]....##\n",
    "##..[]............##\n",
    "##..@......[].[][]##\n",
    "##......[][]..[]..##\n",
    "####################"
   ]
  },
  {
   "cell_type": "code",
   "execution_count": 44,
   "metadata": {},
   "outputs": [
    {
     "data": {
      "text/plain": [
       "9802"
      ]
     },
     "execution_count": 44,
     "metadata": {},
     "output_type": "execute_result"
    }
   ],
   "source": [
    "new_final_boxes_GPS_coordinates(new_dummy_matrix2, dummy_moves2)"
   ]
  },
  {
   "cell_type": "markdown",
   "metadata": {},
   "source": [
    "Dummy 1:"
   ]
  },
  {
   "cell_type": "code",
   "execution_count": 45,
   "metadata": {},
   "outputs": [
    {
     "data": {
      "text/plain": [
       "1648"
      ]
     },
     "execution_count": 45,
     "metadata": {},
     "output_type": "execute_result"
    }
   ],
   "source": [
    "new_final_boxes_GPS_coordinates(new_dummy_matrix1, dummy_moves1)"
   ]
  },
  {
   "cell_type": "markdown",
   "metadata": {},
   "source": [
    "New example:"
   ]
  },
  {
   "cell_type": "code",
   "execution_count": 22,
   "metadata": {},
   "outputs": [],
   "source": [
    "nm = [\n",
    "    [char for char in row] for row in [\n",
    "        \"#######\",\n",
    "        \"#...#.#\",\n",
    "        \"#.....#\",\n",
    "        \"#..OO@#\",\n",
    "        \"#..O..#\",\n",
    "        \"#.....#\",\n",
    "        \"#######\"\n",
    "    ]\n",
    "]\n",
    "m = [char for char in \"<vv<<^^<<^^\"]"
   ]
  },
  {
   "cell_type": "code",
   "execution_count": 39,
   "metadata": {},
   "outputs": [
    {
     "data": {
      "text/plain": [
       "920"
      ]
     },
     "execution_count": 39,
     "metadata": {},
     "output_type": "execute_result"
    }
   ],
   "source": [
    "new_final_boxes_GPS_coordinates(change_map(nm), m)"
   ]
  },
  {
   "cell_type": "markdown",
   "metadata": {},
   "source": [
    "Solution:"
   ]
  },
  {
   "cell_type": "code",
   "execution_count": 40,
   "metadata": {},
   "outputs": [
    {
     "data": {
      "text/plain": [
       "1511308"
      ]
     },
     "execution_count": 40,
     "metadata": {},
     "output_type": "execute_result"
    }
   ],
   "source": [
    "new_final_boxes_GPS_coordinates(new_matrix, moves) # 1642288 too high, 1508925 too low"
   ]
  }
 ],
 "metadata": {
  "kernelspec": {
   "display_name": "base",
   "language": "python",
   "name": "python3"
  },
  "language_info": {
   "codemirror_mode": {
    "name": "ipython",
    "version": 3
   },
   "file_extension": ".py",
   "mimetype": "text/x-python",
   "name": "python",
   "nbconvert_exporter": "python",
   "pygments_lexer": "ipython3",
   "version": "3.10.9"
  }
 },
 "nbformat": 4,
 "nbformat_minor": 2
}
