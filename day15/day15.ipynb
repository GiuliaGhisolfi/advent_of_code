{
 "cells": [
  {
   "cell_type": "markdown",
   "metadata": {},
   "source": [
    "### Part 1"
   ]
  },
  {
   "cell_type": "code",
   "execution_count": 9,
   "metadata": {},
   "outputs": [
    {
     "data": {
      "text/plain": [
       "(50, 50, 20000)"
      ]
     },
     "execution_count": 9,
     "metadata": {},
     "output_type": "execute_result"
    }
   ],
   "source": [
    "import csv\n",
    "\n",
    "INPUT_DATA = \"puzzle_input.csv\"\n",
    "\n",
    "with open(INPUT_DATA, newline='') as csvfile:\n",
    "    reader = csv.reader(csvfile, delimiter=' ')\n",
    "    reader = list(reader)\n",
    "\n",
    "    matrix = []\n",
    "    for row in reader[:50]:\n",
    "        temp = [elem for elem in row[0]]\n",
    "        matrix.append(temp)\n",
    "\n",
    "            \n",
    "\n",
    "    moves = []\n",
    "    for row in reader[51:]:\n",
    "        for elem in row[0]:\n",
    "            moves.append(elem)\n",
    "\n",
    "len(matrix), len(matrix[0]), len(moves)"
   ]
  },
  {
   "cell_type": "code",
   "execution_count": 7,
   "metadata": {},
   "outputs": [
    {
     "data": {
      "text/plain": [
       "[['#',\n",
       "  '#',\n",
       "  '#',\n",
       "  '#',\n",
       "  '#',\n",
       "  '#',\n",
       "  '#',\n",
       "  '#',\n",
       "  '#',\n",
       "  '#',\n",
       "  '#',\n",
       "  '#',\n",
       "  '#',\n",
       "  '#',\n",
       "  '#',\n",
       "  '#',\n",
       "  '#',\n",
       "  '#',\n",
       "  '#',\n",
       "  '#',\n",
       "  '#',\n",
       "  '#',\n",
       "  '#',\n",
       "  '#',\n",
       "  '#',\n",
       "  '#',\n",
       "  '#',\n",
       "  '#',\n",
       "  '#',\n",
       "  '#',\n",
       "  '#',\n",
       "  '#',\n",
       "  '#',\n",
       "  '#',\n",
       "  '#',\n",
       "  '#',\n",
       "  '#',\n",
       "  '#',\n",
       "  '#',\n",
       "  '#',\n",
       "  '#',\n",
       "  '#',\n",
       "  '#',\n",
       "  '#',\n",
       "  '#',\n",
       "  '#',\n",
       "  '#',\n",
       "  '#',\n",
       "  '#',\n",
       "  '#'],\n",
       " ['#',\n",
       "  '.',\n",
       "  '.',\n",
       "  '.',\n",
       "  'O',\n",
       "  '.',\n",
       "  'O',\n",
       "  '.',\n",
       "  '.',\n",
       "  'O',\n",
       "  '.',\n",
       "  '.',\n",
       "  'O',\n",
       "  '.',\n",
       "  '.',\n",
       "  '.',\n",
       "  'O',\n",
       "  '.',\n",
       "  '.',\n",
       "  '.',\n",
       "  '.',\n",
       "  '.',\n",
       "  '.',\n",
       "  '.',\n",
       "  '.',\n",
       "  '.',\n",
       "  '.',\n",
       "  'O',\n",
       "  '.',\n",
       "  'O',\n",
       "  '.',\n",
       "  'O',\n",
       "  '.',\n",
       "  'O',\n",
       "  '.',\n",
       "  '.',\n",
       "  '.',\n",
       "  '.',\n",
       "  '.',\n",
       "  'O',\n",
       "  '.',\n",
       "  '.',\n",
       "  'O',\n",
       "  '.',\n",
       "  '#',\n",
       "  '.',\n",
       "  'O',\n",
       "  '#',\n",
       "  '.',\n",
       "  '#']]"
      ]
     },
     "execution_count": 7,
     "metadata": {},
     "output_type": "execute_result"
    }
   ],
   "source": [
    "matrix[:2]"
   ]
  },
  {
   "cell_type": "code",
   "execution_count": 11,
   "metadata": {},
   "outputs": [
    {
     "data": {
      "text/plain": [
       "['<', 'v', '^', '<', '^', '>', '^', '^', '^', '<']"
      ]
     },
     "execution_count": 11,
     "metadata": {},
     "output_type": "execute_result"
    }
   ],
   "source": [
    "moves[:10]"
   ]
  }
 ],
 "metadata": {
  "kernelspec": {
   "display_name": "base",
   "language": "python",
   "name": "python3"
  },
  "language_info": {
   "codemirror_mode": {
    "name": "ipython",
    "version": 3
   },
   "file_extension": ".py",
   "mimetype": "text/x-python",
   "name": "python",
   "nbconvert_exporter": "python",
   "pygments_lexer": "ipython3",
   "version": "3.10.9"
  }
 },
 "nbformat": 4,
 "nbformat_minor": 2
}
